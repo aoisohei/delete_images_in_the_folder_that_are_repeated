{
 "cells": [
  {
   "cell_type": "code",
   "execution_count": 1,
   "metadata": {},
   "outputs": [],
   "source": [
    "import os\n",
    "import cv2"
   ]
  },
  {
   "cell_type": "code",
   "execution_count": 2,
   "metadata": {},
   "outputs": [
    {
     "name": "stdout",
     "output_type": "stream",
     "text": [
      "4\n"
     ]
    }
   ],
   "source": [
    "def del35():\n",
    "    os.chdir(\"C:/Users/conta/OneDrive/Documents/Tetiana/level emotions/03_13 distrusted/\") #specify the path of the directory\n",
    "\n",
    "    images = []\n",
    "\n",
    "    for image in os.listdir():\n",
    "        images.append(image)\n",
    "\n",
    "    path = \"C:/Users/conta/OneDrive/Documents/Tetiana/level emotions/03_13 distrusted/\" #specify the path of the directory\n",
    "    #img = cv2.imread(\"%s%s\"%(path,images[0]))\n",
    "    count = 0\n",
    "    for a in range(0,len(images)):\n",
    "        try:\n",
    "            dele = []\n",
    "            j=0\n",
    "\n",
    "            img1 = cv2.imread(\"%s%s\"%(path,images[a]))\n",
    "            color = ('b','g','r')\n",
    "            for i,col in enumerate(color):\n",
    "                h1 = cv2.calcHist([img1],[i],None,[256],[0,256])\n",
    "\n",
    "            while(j<35):\n",
    "                a=a+1\n",
    "                #print(images[a])\n",
    "                img2 = cv2.imread(\"%s%s\"%(path,images[a]))\n",
    "                color = ('b','g','r')\n",
    "                for i,col in enumerate(color):\n",
    "                     h2 = cv2.calcHist([img2],[i],None,[256],[0,256])\n",
    "\n",
    "                x=cv2.compareHist(h1,h2,cv2.HISTCMP_CORREL)\n",
    "                #print(x)\n",
    "\n",
    "                if(x>0.78):\n",
    "                    dele.append(images[a])\n",
    "                    full_path = path + images[a]\n",
    "                    os.remove(full_path)\n",
    "                j=j+1\n",
    "\n",
    "            for k in dele:\n",
    "                if(k in images):\n",
    "                    images.remove(k)\n",
    "            count = count + 1\n",
    "            print(\"completed round:\",count)\n",
    "        except:\n",
    "            pass\n",
    "\n",
    "    print(len(os.listdir()))\n",
    "\n",
    "del35()"
   ]
  }
 ],
 "metadata": {
  "kernelspec": {
   "display_name": "Python 3",
   "language": "python",
   "name": "python3"
  },
  "language_info": {
   "codemirror_mode": {
    "name": "ipython",
    "version": 3
   },
   "file_extension": ".py",
   "mimetype": "text/x-python",
   "name": "python",
   "nbconvert_exporter": "python",
   "pygments_lexer": "ipython3",
   "version": "3.8.3"
  }
 },
 "nbformat": 4,
 "nbformat_minor": 4
}
